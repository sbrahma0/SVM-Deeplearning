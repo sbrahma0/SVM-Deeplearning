{
 "cells": [
  {
   "cell_type": "markdown",
   "metadata": {},
   "source": [
    "## My network"
   ]
  },
  {
   "cell_type": "code",
   "execution_count": 10,
   "metadata": {},
   "outputs": [],
   "source": [
    "import keras\n",
    "from keras.layers import Conv2D, MaxPool2D, Flatten\n",
    "from keras.layers import Dense, Dropout\n",
    "from utils import mnist_reader\n",
    "X_train, y_train = mnist_reader.load_mnist('data/fashion', kind='train')\n",
    "X_test, y_test = mnist_reader.load_mnist('data/fashion', kind='t10k')"
   ]
  },
  {
   "cell_type": "code",
   "execution_count": 11,
   "metadata": {},
   "outputs": [
    {
     "name": "stdout",
     "output_type": "stream",
     "text": [
      "(60000, 784)\n"
     ]
    }
   ],
   "source": [
    "print(X_train.shape)"
   ]
  },
  {
   "cell_type": "code",
   "execution_count": 12,
   "metadata": {},
   "outputs": [],
   "source": [
    "model = keras.models.Sequential([\n",
    "    keras.layers.Conv2D(32, (5, 5), padding=\"same\", input_shape=[28, 28, 1]),\n",
    "    keras.layers.MaxPool2D((2,2)),\n",
    "    keras.layers.Conv2D(64, (5, 5), padding=\"same\"),\n",
    "    keras.layers.MaxPool2D((2,2)),\n",
    "    keras.layers.Flatten(),\n",
    "    keras.layers.Dense(1024, activation='relu'),\n",
    "    keras.layers.Dropout(0.5),\n",
    "    keras.layers.Dense(10, activation='softmax')\n",
    "])"
   ]
  },
  {
   "cell_type": "code",
   "execution_count": 13,
   "metadata": {},
   "outputs": [
    {
     "name": "stdout",
     "output_type": "stream",
     "text": [
      "Model: \"sequential_2\"\n",
      "_________________________________________________________________\n",
      "Layer (type)                 Output Shape              Param #   \n",
      "=================================================================\n",
      "conv2d_3 (Conv2D)            (None, 28, 28, 32)        832       \n",
      "_________________________________________________________________\n",
      "max_pooling2d_3 (MaxPooling2 (None, 14, 14, 32)        0         \n",
      "_________________________________________________________________\n",
      "conv2d_4 (Conv2D)            (None, 14, 14, 64)        51264     \n",
      "_________________________________________________________________\n",
      "max_pooling2d_4 (MaxPooling2 (None, 7, 7, 64)          0         \n",
      "_________________________________________________________________\n",
      "flatten_2 (Flatten)          (None, 3136)              0         \n",
      "_________________________________________________________________\n",
      "dense_3 (Dense)              (None, 1024)              3212288   \n",
      "_________________________________________________________________\n",
      "dropout_2 (Dropout)          (None, 1024)              0         \n",
      "_________________________________________________________________\n",
      "dense_4 (Dense)              (None, 10)                10250     \n",
      "=================================================================\n",
      "Total params: 3,274,634\n",
      "Trainable params: 3,274,634\n",
      "Non-trainable params: 0\n",
      "_________________________________________________________________\n"
     ]
    }
   ],
   "source": [
    "model.summary()"
   ]
  },
  {
   "cell_type": "code",
   "execution_count": 14,
   "metadata": {},
   "outputs": [
    {
     "name": "stdout",
     "output_type": "stream",
     "text": [
      "(10000, 28, 28, 1)\n"
     ]
    }
   ],
   "source": [
    "X_train = X_train.reshape([-1, 28, 28, 1])\n",
    "X_test = X_test.reshape([-1, 28, 28, 1])\n",
    "X_train = X_train/255\n",
    "X_test = X_test/255\n",
    "print(X_test.shape)"
   ]
  },
  {
   "cell_type": "code",
   "execution_count": 15,
   "metadata": {},
   "outputs": [
    {
     "name": "stdout",
     "output_type": "stream",
     "text": [
      "(10000, 10)\n"
     ]
    }
   ],
   "source": [
    "Y_train = keras.utils.np_utils.to_categorical(y_train)\n",
    "Y_test = keras.utils.np_utils.to_categorical(y_test)\n",
    "print(Y_test.shape)"
   ]
  },
  {
   "cell_type": "code",
   "execution_count": 16,
   "metadata": {
    "scrolled": true
   },
   "outputs": [
    {
     "name": "stdout",
     "output_type": "stream",
     "text": [
      "Train on 54000 samples, validate on 6000 samples\n",
      "Epoch 1/24\n",
      "54000/54000 [==============================] - 8s 142us/step - loss: 0.6089 - accuracy: 0.7870 - val_loss: 0.4110 - val_accuracy: 0.8498\n",
      "Epoch 2/24\n",
      "54000/54000 [==============================] - 8s 149us/step - loss: 0.3991 - accuracy: 0.8581 - val_loss: 0.3598 - val_accuracy: 0.8693\n",
      "Epoch 3/24\n",
      "54000/54000 [==============================] - 8s 147us/step - loss: 0.3514 - accuracy: 0.8752 - val_loss: 0.3252 - val_accuracy: 0.8793\n",
      "Epoch 4/24\n",
      "54000/54000 [==============================] - 8s 143us/step - loss: 0.3200 - accuracy: 0.8855 - val_loss: 0.3120 - val_accuracy: 0.8852\n",
      "Epoch 5/24\n",
      "54000/54000 [==============================] - 8s 143us/step - loss: 0.2963 - accuracy: 0.8931 - val_loss: 0.2870 - val_accuracy: 0.8963\n",
      "Epoch 6/24\n",
      "54000/54000 [==============================] - 8s 143us/step - loss: 0.2773 - accuracy: 0.8998 - val_loss: 0.2740 - val_accuracy: 0.9015\n",
      "Epoch 7/24\n",
      "54000/54000 [==============================] - 8s 144us/step - loss: 0.2593 - accuracy: 0.9058 - val_loss: 0.2680 - val_accuracy: 0.9057\n",
      "Epoch 8/24\n",
      "54000/54000 [==============================] - 8s 143us/step - loss: 0.2443 - accuracy: 0.9109 - val_loss: 0.2574 - val_accuracy: 0.9035\n",
      "Epoch 9/24\n",
      "54000/54000 [==============================] - 8s 143us/step - loss: 0.2320 - accuracy: 0.9160 - val_loss: 0.2501 - val_accuracy: 0.9058\n",
      "Epoch 10/24\n",
      "54000/54000 [==============================] - 8s 142us/step - loss: 0.2201 - accuracy: 0.9206 - val_loss: 0.2464 - val_accuracy: 0.9085\n",
      "Epoch 11/24\n",
      "54000/54000 [==============================] - 8s 144us/step - loss: 0.2090 - accuracy: 0.9226 - val_loss: 0.2414 - val_accuracy: 0.9103\n",
      "Epoch 12/24\n",
      "54000/54000 [==============================] - 8s 143us/step - loss: 0.1991 - accuracy: 0.9268 - val_loss: 0.2331 - val_accuracy: 0.9145\n",
      "Epoch 13/24\n",
      "54000/54000 [==============================] - 8s 143us/step - loss: 0.1898 - accuracy: 0.9307 - val_loss: 0.2333 - val_accuracy: 0.9127\n",
      "Epoch 14/24\n",
      "54000/54000 [==============================] - 8s 143us/step - loss: 0.1803 - accuracy: 0.9335 - val_loss: 0.2323 - val_accuracy: 0.9127\n",
      "Epoch 15/24\n",
      "54000/54000 [==============================] - 8s 144us/step - loss: 0.1718 - accuracy: 0.9373 - val_loss: 0.2306 - val_accuracy: 0.9133\n",
      "Epoch 16/24\n",
      "54000/54000 [==============================] - 8s 144us/step - loss: 0.1648 - accuracy: 0.9401 - val_loss: 0.2283 - val_accuracy: 0.9162\n",
      "Epoch 17/24\n",
      "54000/54000 [==============================] - 8s 144us/step - loss: 0.1565 - accuracy: 0.9429 - val_loss: 0.2266 - val_accuracy: 0.9190\n",
      "Epoch 18/24\n",
      "54000/54000 [==============================] - 8s 143us/step - loss: 0.1495 - accuracy: 0.9451 - val_loss: 0.2253 - val_accuracy: 0.9202\n",
      "Epoch 19/24\n",
      "54000/54000 [==============================] - 8s 143us/step - loss: 0.1423 - accuracy: 0.9483 - val_loss: 0.2248 - val_accuracy: 0.9202\n",
      "Epoch 20/24\n",
      "54000/54000 [==============================] - 8s 143us/step - loss: 0.1355 - accuracy: 0.9503 - val_loss: 0.2182 - val_accuracy: 0.9237\n",
      "Epoch 21/24\n",
      "54000/54000 [==============================] - 8s 150us/step - loss: 0.1285 - accuracy: 0.9525 - val_loss: 0.2239 - val_accuracy: 0.9217\n",
      "Epoch 22/24\n",
      "54000/54000 [==============================] - 8s 144us/step - loss: 0.1231 - accuracy: 0.9546 - val_loss: 0.2213 - val_accuracy: 0.9235\n",
      "Epoch 23/24\n",
      "54000/54000 [==============================] - 8s 146us/step - loss: 0.1156 - accuracy: 0.9589 - val_loss: 0.2348 - val_accuracy: 0.9205\n",
      "Epoch 24/24\n",
      "54000/54000 [==============================] - 8s 147us/step - loss: 0.1102 - accuracy: 0.9606 - val_loss: 0.2242 - val_accuracy: 0.9217\n"
     ]
    },
    {
     "data": {
      "text/plain": [
       "<keras.callbacks.callbacks.History at 0x2b8b43310c8>"
      ]
     },
     "execution_count": 16,
     "metadata": {},
     "output_type": "execute_result"
    }
   ],
   "source": [
    "model.compile(keras.optimizers.Adam(1e-4), loss='categorical_crossentropy', metrics=['accuracy'])\n",
    "model.fit(X_train, Y_train, validation_split=0.10, batch_size=64, epochs=24, verbose=1)"
   ]
  },
  {
   "cell_type": "code",
   "execution_count": null,
   "metadata": {},
   "outputs": [],
   "source": []
  },
  {
   "cell_type": "code",
   "execution_count": 17,
   "metadata": {},
   "outputs": [
    {
     "name": "stdout",
     "output_type": "stream",
     "text": [
      "10000/10000 [==============================] - 1s 92us/step\n"
     ]
    }
   ],
   "source": [
    "test_loss, test_accuracy = model.evaluate(X_test, Y_test, verbose=1)"
   ]
  },
  {
   "cell_type": "code",
   "execution_count": 18,
   "metadata": {},
   "outputs": [
    {
     "name": "stdout",
     "output_type": "stream",
     "text": [
      "0.9204000234603882\n"
     ]
    }
   ],
   "source": [
    "print(test_accuracy)"
   ]
  },
  {
   "cell_type": "code",
   "execution_count": null,
   "metadata": {},
   "outputs": [],
   "source": []
  }
 ],
 "metadata": {
  "kernelspec": {
   "display_name": "Python 3",
   "language": "python",
   "name": "python3"
  },
  "language_info": {
   "codemirror_mode": {
    "name": "ipython",
    "version": 3
   },
   "file_extension": ".py",
   "mimetype": "text/x-python",
   "name": "python",
   "nbconvert_exporter": "python",
   "pygments_lexer": "ipython3",
   "version": "3.7.5"
  }
 },
 "nbformat": 4,
 "nbformat_minor": 2
}
